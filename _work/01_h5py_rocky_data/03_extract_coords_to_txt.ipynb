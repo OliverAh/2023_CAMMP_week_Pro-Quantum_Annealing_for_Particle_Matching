{
 "cells": [
  {
   "cell_type": "code",
   "execution_count": 1,
   "id": "e70d573a-b7d4-4fca-932e-ed7f86553901",
   "metadata": {},
   "outputs": [],
   "source": [
    "sim_path = r'C:\\Users\\oahre\\OneDrive\\RWTH\\Simulation_Science\\HiWi\\CWP_SS23\\2023-06-pro-voeren-gruppen\\Group 5 - Quantum Annealing Particle Matching in DEM Simulations\\_work_OAH\\99_rocky_data\\99_tmp.rocky.files\\simulation'\n",
    "sim_path = r'D:\\RWTH\\HiWi\\Rocky\\99_Paper_Clemens_Performance\\07_Particles_12641_CPU_8_GPU_0.rocky.files\\simulation'"
   ]
  },
  {
   "cell_type": "code",
   "execution_count": 2,
   "id": "78fe6d37-6b34-411f-84fb-e2c1a2e3cc04",
   "metadata": {},
   "outputs": [],
   "source": [
    "file_list = []\n",
    "for i in range(10):\n",
    "    file_list.append(sim_path + r'\\rocky_simulation0000{}.rhs'.format(i))\n",
    "for i in range(10,100):\n",
    "    file_list.append(sim_path + r'\\rocky_simulation000{}.rhs'.format(i))\n",
    "for i in range(100,1000):\n",
    "    file_list.append(sim_path + r'\\rocky_simulation00{}.rhs'.format(i))\n",
    "for i in range(1000,1201):\n",
    "    file_list.append(sim_path + r'\\rocky_simulation0{}.rhs'.format(i))"
   ]
  },
  {
   "cell_type": "code",
   "execution_count": 3,
   "id": "098c2b8d-3b9c-4cf1-b7ee-c9645b74a9ea",
   "metadata": {},
   "outputs": [],
   "source": [
    "import h5py\n",
    "import numpy as np\n",
    "\n",
    "file_path = file_list[0]\n",
    "f = h5py.File(file_path, 'r')\n",
    "part = f.get('Particles')"
   ]
  },
  {
   "cell_type": "code",
   "execution_count": 4,
   "id": "63d94d38-ef55-431f-9952-4fea9152905f",
   "metadata": {},
   "outputs": [
    {
     "name": "stdout",
     "output_type": "stream",
     "text": [
      "Files to read: 1201\n"
     ]
    }
   ],
   "source": [
    "from tqdm import tqdm\n",
    "files_to_read = file_list # or file_list_2\n",
    "\n",
    "\n",
    "num_particles = part['released_particles'].maxshape[0]\n",
    "particles_coords = np.zeros((len(files_to_read),num_particles,3))\n",
    "print('Files to read: {}'.format(len(files_to_read)))\n",
    "def read_files(start, stop):\n",
    "    print('    read {} files'.format(stop-start))\n",
    "    for i,file in tqdm(enumerate(files_to_read[start:stop])):\n",
    "        #print(i+start)\n",
    "        #print(file)\n",
    "        f = h5py.File(file, 'r')\n",
    "        indices = f['Particles']['particles_index'][:].astype('int32')\n",
    "        #print(\"index : \", indices)\n",
    "        particles_coords[i+start,indices,0] = f['Particles']['particles_position'].fields(['x'])[:].astype('float64')\n",
    "        particles_coords[i+start,indices,1] = f['Particles']['particles_position'].fields(['y'])[:].astype('float64')\n",
    "        particles_coords[i+start,indices,2] = f['Particles']['particles_position'].fields(['z'])[:].astype('float64')\n",
    "        #print(f['Particles']['particles_position'].fields(['x'])[:])\n",
    "        #print(f['Particles']['particles_position'].fields(['y'])[:])\n",
    "    return"
   ]
  },
  {
   "cell_type": "code",
   "execution_count": 5,
   "id": "69259f49-653b-4842-8185-4f484769a36e",
   "metadata": {},
   "outputs": [
    {
     "name": "stdout",
     "output_type": "stream",
     "text": [
      "    read 1201 files\n"
     ]
    },
    {
     "name": "stderr",
     "output_type": "stream",
     "text": [
      "1201it [00:10, 117.82it/s]\n"
     ]
    },
    {
     "data": {
      "text/plain": [
       "array([[-0.14112649,  0.0898764 , -0.04191167],\n",
       "       [-0.04653406,  0.01321693, -0.0665191 ],\n",
       "       [-0.0412804 ,  0.00766084,  0.03359599],\n",
       "       ...,\n",
       "       [ 0.03165448, -0.04329351,  0.03110715],\n",
       "       [-0.04607088, -0.03636427, -0.02059921],\n",
       "       [ 0.08970579,  0.04964865, -0.04521448]])"
      ]
     },
     "execution_count": 5,
     "metadata": {},
     "output_type": "execute_result"
    }
   ],
   "source": [
    "read_files(0,len(file_list))\n",
    "particles_coords[10]\n",
    "particles_coords[1199]"
   ]
  },
  {
   "cell_type": "code",
   "execution_count": 6,
   "id": "95431b8c",
   "metadata": {},
   "outputs": [
    {
     "name": "stdout",
     "output_type": "stream",
     "text": [
      "[0.]\n",
      "[0.05]\n",
      "[30.]\n",
      "[32.5]\n"
     ]
    }
   ],
   "source": [
    "# solution written every 0.05 seconds, started at 0.0\n",
    "f = h5py.File(file_list[0], 'r')\n",
    "print(f.attrs['time_value'])\n",
    "f = h5py.File(file_list[1], 'r')\n",
    "print(f.attrs['time_value'])\n",
    "f = h5py.File(file_list[600], 'r')\n",
    "print(f.attrs['time_value'])\n",
    "f = h5py.File(file_list[650], 'r')\n",
    "print(f.attrs['time_value'])"
   ]
  },
  {
   "cell_type": "code",
   "execution_count": 7,
   "id": "aa26ec67",
   "metadata": {},
   "outputs": [],
   "source": [
    "#np.savetxt('coords_30p0s_02_30.txt', particles_coords[600])\n",
    "#np.savetxt('coords_32p5s_02_30.txt', particles_coords[650])\n",
    "np.savetxt('coords_30p0s_07_12641.txt', particles_coords[600])\n",
    "np.savetxt('coords_32p5s_07_12641.txt', particles_coords[650])"
   ]
  },
  {
   "cell_type": "code",
   "execution_count": 8,
   "id": "335eb75a",
   "metadata": {},
   "outputs": [
    {
     "name": "stdout",
     "output_type": "stream",
     "text": [
      "<class 'numpy.ndarray'>\n",
      "(12641, 3)\n",
      "float64\n"
     ]
    }
   ],
   "source": [
    "#array_30s = np.loadtxt('coords_30p0s_02_30.txt')\n",
    "array_30s = np.loadtxt('coords_30p0s_07_12641.txt')\n",
    "print(type(array_30s))\n",
    "print(np.shape(array_30s))\n",
    "print(array_30s.dtype)"
   ]
  }
 ],
 "metadata": {
  "kernelspec": {
   "display_name": "base",
   "language": "python",
   "name": "python3"
  },
  "language_info": {
   "codemirror_mode": {
    "name": "ipython",
    "version": 3
   },
   "file_extension": ".py",
   "mimetype": "text/x-python",
   "name": "python",
   "nbconvert_exporter": "python",
   "pygments_lexer": "ipython3",
   "version": "3.9.15"
  },
  "vscode": {
   "interpreter": {
    "hash": "ad2bdc8ecc057115af97d19610ffacc2b4e99fae6737bb82f5d7fb13d2f2c186"
   }
  }
 },
 "nbformat": 4,
 "nbformat_minor": 5
}
